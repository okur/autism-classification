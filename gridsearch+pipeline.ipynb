{
 "cells": [
  {
   "cell_type": "code",
   "execution_count": 1,
   "metadata": {},
   "outputs": [],
   "source": [
    "import pandas as pd\n",
    "import numpy as np\n",
    "import matplotlib.pyplot as plt\n",
    "import data\n",
    "\n",
    "from sklearn.decomposition import PCA,TruncatedSVD,NMF\n",
    "from sklearn.feature_selection import (chi2, f_classif,mutual_info_classif,\n",
    "                                        SelectKBest,SelectFromModel,VarianceThreshold,RFECV)\n",
    "from sklearn.model_selection import GridSearchCV,RandomizedSearchCV,StratifiedKFold\n",
    "from sklearn.pipeline import Pipeline, FeatureUnion,TransformerMixin\n",
    "from sklearn.preprocessing import MinMaxScaler,StandardScaler\n",
    "from sklearn.metrics import accuracy_score\n",
    "from sklearn.ensemble import (AdaBoostClassifier,BaggingClassifier,ExtraTreesClassifier,\n",
    "                              GradientBoostingClassifier,RandomForestClassifier,VotingClassifier)\n",
    "from sklearn.tree import DecisionTreeClassifier,ExtraTreeClassifier\n",
    "from sklearn.svm import LinearSVC,SVC,NuSVC\n",
    "from sklearn.naive_bayes import BernoulliNB,GaussianNB,MultinomialNB\n",
    "from sklearn.linear_model import LogisticRegression,RidgeClassifier,SGDClassifier\n",
    "from sklearn.neighbors import KNeighborsClassifier,RadiusNeighborsClassifier\n",
    "\n",
    "from xgboost import XGBClassifier\n",
    "from lightgbm import LGBMClassifier\n",
    "\n",
    "import warnings\n",
    "warnings.filterwarnings(\"ignore\")"
   ]
  },
  {
   "cell_type": "markdown",
   "metadata": {},
   "source": [
    "Hocanın özellikle koyduğu tekrarlayan satırları düşürmeye yarıyor burası, her birinden o tekrarlayan featureları atıyor."
   ]
  },
  {
   "cell_type": "code",
   "execution_count": 34,
   "metadata": {},
   "outputs": [],
   "source": [
    "# Drop same or zero columns\n",
    "X_train,y_train,X_test = data.load_data()\n",
    "same_columns = []\n",
    "for i in range(0,595):\n",
    "    if i not in same_columns:\n",
    "        counter = i + 1\n",
    "        while counter < 595:\n",
    "            if X_train.iloc[:,i].equals(X_train.iloc[:,counter]):\n",
    "                same_columns.append(counter)\n",
    "            counter += 1\n",
    "same_columns.append(2)\n",
    "same_columns = list(set(same_columns))\n",
    "for i in same_columns:\n",
    "    X_train.drop(columns='X'+str(i+1), axis=1, inplace=True)\n",
    "    X_test.drop(columns='X'+str(i+1), axis=1, inplace=True)"
   ]
  },
  {
   "cell_type": "code",
   "execution_count": 42,
   "metadata": {
    "scrolled": true
   },
   "outputs": [
    {
     "data": {
      "text/plain": [
       "(120, 496)"
      ]
     },
     "execution_count": 42,
     "metadata": {},
     "output_type": "execute_result"
    }
   ],
   "source": [
    "class ModelTransformer(TransformerMixin):\n",
    "\n",
    "    def __init__(self, model):\n",
    "        self.model = model\n",
    "\n",
    "    def fit(self, *args, **kwargs):\n",
    "        self.model.fit(*args, **kwargs)\n",
    "        return self\n",
    "\n",
    "    def transform(self, X, **transform_params):\n",
    "        return pd.DataFrame(self.model.predict(X))\n",
    "\n",
    "classify = FeatureUnion([\n",
    "                ('gbr', ModelTransformer(GradientBoostingClassifier())),\n",
    "                ('dtr', ModelTransformer(DecisionTreeClassifier())),\n",
    "                ('etr', ModelTransformer(ExtraTreesClassifier())),\n",
    "                ('rfr', ModelTransformer(RandomForestClassifier())),\n",
    "                ('par', ModelTransformer(LGBMClassifier())),\n",
    "                ('ada', ModelTransformer(AdaBoostClassifier())),\n",
    "    ])\n",
    "model = VotingClassifier()"
   ]
  },
  {
   "cell_type": "markdown",
   "metadata": {},
   "source": [
    "Buradan da gridsearch yapıyorsun en temel haliyle, bir classfier'ın birden çok parametresi var. Feature selectorlar da birden fazla, burada mesela hepsini veriyorsun  "
   ]
  },
  {
   "cell_type": "code",
   "execution_count": 45,
   "metadata": {},
   "outputs": [
    {
     "data": {
      "text/plain": [
       "GridSearchCV(cv=StratifiedKFold(n_splits=5, random_state=0, shuffle=True),\n",
       "       error_score='raise-deprecating',\n",
       "       estimator=Pipeline(memory=None,\n",
       "     steps=[('reduce_dim', SelectKBest(k=10, score_func=<function chi2 at 0x7f93ed925048>)), ('classify', SVC(C=1.0, cache_size=200, class_weight=None, coef0=0.0,\n",
       "  decision_function_shape='ovr', degree=3, gamma='auto_deprecated',\n",
       "  kernel='rbf', max_iter=-1, probability=False, random_state=None,\n",
       "  shrinking=True, tol=0.001, verbose=False))]),\n",
       "       fit_params=None, iid='warn', n_jobs=1,\n",
       "       param_grid=[{'reduce_dim': [PCA(copy=True, iterated_power=7, n_components=90, random_state=None,\n",
       "  svd_solver='auto', tol=0.0, whiten=False), NMF(alpha=0.0, beta_loss='frobenius', init=None, l1_ratio=0.0, max_iter=200,\n",
       "  n_components=10, random_state=None, shuffle=False, solver='cd',\n",
       "  tol=0.0001, v...0, 10.0, 100.0], 'classify__gamma': [1, 0.1, 0.001, 0.0001], 'classify__kernel': ['linear', 'rbf']}],\n",
       "       pre_dispatch='2*n_jobs', refit=True, return_train_score='warn',\n",
       "       scoring='accuracy', verbose=0)"
      ]
     },
     "execution_count": 45,
     "metadata": {},
     "output_type": "execute_result"
    }
   ],
   "source": [
    "pipe = Pipeline([\n",
    "    ('reduce_dim',SelectKBest(chi2)),\n",
    "    ('classify', SVC())\n",
    "])\n",
    "\n",
    "N_FEATURES_OPTIONS = list(range(10,100,10))#Kaç tane feature seçileceği\n",
    "C_OPTIONS = [0.001, 0.01, 0.1, 1.0, 10.0, 100.0]#Classifier opsiyonları, classifier değişirse onun parametrelerine\n",
    "#sklearn'den bak, her birinin farklı parametreleri var\n",
    "gamma = [1,0.1,0.001,0.0001]#Classifier\n",
    "param_grid = [\n",
    "    {\n",
    "        'reduce_dim': [PCA(iterated_power=7), NMF()],\n",
    "        'reduce_dim__n_components': N_FEATURES_OPTIONS,\n",
    "        'classify__C': C_OPTIONS,\n",
    "        'classify__gamma':gamma,\n",
    "        'classify__kernel':['linear','rbf']\n",
    "    },\n",
    "    {\n",
    "        'reduce_dim': [SelectKBest(chi2)],\n",
    "        'reduce_dim__k': N_FEATURES_OPTIONS,\n",
    "        'classify__C': C_OPTIONS,\n",
    "        'classify__gamma':gamma,\n",
    "        'classify__kernel':['linear','rbf']\n",
    "    },\n",
    "    {\n",
    "        'reduce_dim': [SelectKBest(f_classif)],\n",
    "        'reduce_dim__k': N_FEATURES_OPTIONS,\n",
    "        'classify__C': C_OPTIONS,\n",
    "        'classify__gamma':gamma,\n",
    "        'classify__kernel':['linear','rbf']\n",
    "    },\n",
    "    {\n",
    "        'reduce_dim': [SelectKBest(mutual_info_classif)],\n",
    "        'reduce_dim__k': N_FEATURES_OPTIONS,\n",
    "        'classify__C': C_OPTIONS,\n",
    "        'classify__gamma':gamma,\n",
    "        'classify__kernel':['linear','rbf']\n",
    "    },\n",
    "]\n",
    "k_fold = StratifiedKFold(n_splits=5, shuffle=True, random_state=0)\n",
    "grid = GridSearchCV(pipe, n_jobs=1, param_grid=param_grid, scoring=\"accuracy\",cv=k_fold)\n",
    "grid.fit(X_train,y_train)"
   ]
  },
  {
   "cell_type": "code",
   "execution_count": 53,
   "metadata": {
    "scrolled": true
   },
   "outputs": [
    {
     "data": {
      "text/plain": [
       "{'classify__C': 10.0,\n",
       " 'classify__gamma': 1,\n",
       " 'classify__kernel': 'linear',\n",
       " 'reduce_dim': NMF(alpha=0.0, beta_loss='frobenius', init=None, l1_ratio=0.0, max_iter=200,\n",
       "   n_components=10, random_state=None, shuffle=False, solver='cd',\n",
       "   tol=0.0001, verbose=0),\n",
       " 'reduce_dim__n_components': 10}"
      ]
     },
     "execution_count": 53,
     "metadata": {},
     "output_type": "execute_result"
    }
   ],
   "source": [
    "grid.best_params_"
   ]
  },
  {
   "cell_type": "code",
   "execution_count": null,
   "metadata": {},
   "outputs": [],
   "source": []
  },
  {
   "cell_type": "code",
   "execution_count": null,
   "metadata": {},
   "outputs": [],
   "source": [
    "y_pred = grid.best_estimator_.predict(X_test.loc[:,a])\n",
    "data.write_output(y_pred.reshape(-1,1))"
   ]
  },
  {
   "cell_type": "code",
   "execution_count": null,
   "metadata": {},
   "outputs": [],
   "source": [
    "model = SVC(C=10, kernel='linear',gamma=1)"
   ]
  }
 ],
 "metadata": {
  "kernelspec": {
   "display_name": "Python 3",
   "language": "python",
   "name": "python3"
  },
  "language_info": {
   "codemirror_mode": {
    "name": "ipython",
    "version": 3
   },
   "file_extension": ".py",
   "mimetype": "text/x-python",
   "name": "python",
   "nbconvert_exporter": "python",
   "pygments_lexer": "ipython3",
   "version": "3.6.2"
  }
 },
 "nbformat": 4,
 "nbformat_minor": 2
}
